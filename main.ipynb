{
 "cells": [
  {
   "cell_type": "markdown",
   "id": "2c0d7613",
   "metadata": {},
   "source": [
    "This is the main file for feature comparisons and hyperparameters optimization"
   ]
  },
  {
   "cell_type": "code",
   "execution_count": 1,
   "id": "28185605",
   "metadata": {},
   "outputs": [
    {
     "name": "stderr",
     "output_type": "stream",
     "text": [
      "C:\\Users\\ytw\\anaconda3\\lib\\site-packages\\numpy\\_distributor_init.py:30: UserWarning: loaded more than 1 DLL from .libs:\n",
      "C:\\Users\\ytw\\anaconda3\\lib\\site-packages\\numpy\\.libs\\libopenblas.WCDJNK7YVMPZQ2ME2ZZHJJRJ3JIKNDB7.gfortran-win_amd64.dll\n",
      "C:\\Users\\ytw\\anaconda3\\lib\\site-packages\\numpy\\.libs\\libopenblas64__v0.3.21-gcc_10_3_0.dll\n",
      "  warnings.warn(\"loaded more than 1 DLL from .libs:\"\n",
      "C:\\Users\\ytw\\anaconda3\\lib\\site-packages\\scipy\\__init__.py:146: UserWarning: A NumPy version >=1.16.5 and <1.23.0 is required for this version of SciPy (detected version 1.24.4\n",
      "  warnings.warn(f\"A NumPy version >={np_minversion} and <{np_maxversion}\"\n"
     ]
    }
   ],
   "source": [
    "# import functions\n",
    "import importlib\n",
    "import functions\n",
    "importlib.reload(functions)\n",
    "from functions import *"
   ]
  },
  {
   "cell_type": "markdown",
   "id": "10071623",
   "metadata": {},
   "source": [
    "import features"
   ]
  },
  {
   "cell_type": "code",
   "execution_count": 24,
   "id": "4e0bb14a",
   "metadata": {},
   "outputs": [],
   "source": [
    "# import extracted features\n",
    "baseline = pd.read_csv('features/baseline.csv')\n",
    "fft = pd.read_csv('features/fft.csv')\n",
    "ti = pd.read_csv('features/ti.csv')\n",
    "rolloff = pd.read_csv('features/rolloff.csv')\n",
    "spec = pd.read_csv('features/spec.csv')\n",
    "wt = pd.read_csv('features/wavelets.csv')"
   ]
  },
  {
   "cell_type": "markdown",
   "id": "74624623",
   "metadata": {},
   "source": [
    "pre-porcessing every features"
   ]
  },
  {
   "cell_type": "code",
   "execution_count": 25,
   "id": "7afbe841",
   "metadata": {},
   "outputs": [],
   "source": [
    "baseline_X_train, y_train, baseline_X_test, y_test = pre_features(0.8, baseline)\n",
    "fft_X_train, y_train, fft_X_test, y_test = pre_features(0.8, fft)\n",
    "ti_X_train, y_train, ti_X_test, y_test = pre_features(0.8, ti)\n",
    "rolloff_X_train, y_train, rolloff_X_test, y_test = pre_features(0.8, rolloff)\n",
    "spec_X_train, y_train, spec_X_test, y_test = pre_features(0.8, spec)\n",
    "wt_X_train, y_train, wt_X_test, y_test = pre_features(0.8, wt)"
   ]
  },
  {
   "cell_type": "markdown",
   "id": "66713611",
   "metadata": {},
   "source": [
    "fit every feature by knn"
   ]
  },
  {
   "cell_type": "code",
   "execution_count": 17,
   "id": "5b2f0527",
   "metadata": {},
   "outputs": [],
   "source": [
    "# store result of all the features\n",
    "result = {}"
   ]
  },
  {
   "cell_type": "code",
   "execution_count": 18,
   "id": "4416619d",
   "metadata": {},
   "outputs": [
    {
     "name": "stdout",
     "output_type": "stream",
     "text": [
      "Wall time: 5min 2s\n"
     ]
    }
   ],
   "source": [
    "%%time\n",
    "result['baseline train'] = simple_knn(baseline_X_train, y_train, baseline_X_train, y_train)\n",
    "result['baseline cv'] = knn_cv(baseline_X_train, y_train, baseline_X_test, y_test, 5)\n",
    "result['baseline test'] = simple_knn(baseline_X_train, y_train, baseline_X_test, y_test)\n",
    "result['fft train'] = simple_knn(fft_X_train, y_train, fft_X_train, y_train)\n",
    "result['fft cv'] = knn_cv(fft_X_train, y_train, fft_X_test, y_test, 5)\n",
    "result['fft test'] = simple_knn(fft_X_train, y_train, fft_X_test, y_test)\n",
    "result['stft train'] = simple_knn(ti_X_train, y_train, ti_X_train, y_train)\n",
    "result['stft cv'] = knn_cv(ti_X_train, y_train, ti_X_test, y_test, 5)\n",
    "result['stft test'] = simple_knn(ti_X_train, y_train, ti_X_test, y_test)\n",
    "result['rolloff train'] = simple_knn(rolloff_X_train, y_train, rolloff_X_train, y_train)\n",
    "result['rolloff cv'] = knn_cv(rolloff_X_train, y_train, rolloff_X_test, y_test, 5)\n",
    "result['rolloff test'] = simple_knn(rolloff_X_train, y_train, rolloff_X_test, y_test)\n",
    "result['spec train'] = simple_knn(spec_X_train, y_train, spec_X_train, y_train)\n",
    "result['spec cv'] = knn_cv(spec_X_train, y_train, spec_X_test, y_test, 5)\n",
    "result['spec test'] = simple_knn(spec_X_train, y_train, spec_X_test, y_test)\n",
    "result['wave train'] = simple_knn(wt_X_train, y_train, wt_X_train, y_train)\n",
    "result['wave cv'] = knn_cv(wt_X_train, y_train, wt_X_test, y_test, 5)\n",
    "result['wave test'] = simple_knn(wt_X_train, y_train, wt_X_test, y_test)"
   ]
  },
  {
   "cell_type": "markdown",
   "id": "129470f3",
   "metadata": {},
   "source": [
    "result"
   ]
  },
  {
   "cell_type": "code",
   "execution_count": 20,
   "id": "c5a8c41f",
   "metadata": {},
   "outputs": [
    {
     "data": {
      "text/html": [
       "<div>\n",
       "<style scoped>\n",
       "    .dataframe tbody tr th:only-of-type {\n",
       "        vertical-align: middle;\n",
       "    }\n",
       "\n",
       "    .dataframe tbody tr th {\n",
       "        vertical-align: top;\n",
       "    }\n",
       "\n",
       "    .dataframe thead th {\n",
       "        text-align: right;\n",
       "    }\n",
       "</style>\n",
       "<table border=\"1\" class=\"dataframe\">\n",
       "  <thead>\n",
       "    <tr style=\"text-align: right;\">\n",
       "      <th></th>\n",
       "      <th>feature</th>\n",
       "      <th>train score</th>\n",
       "      <th>cv score</th>\n",
       "      <th>test score</th>\n",
       "    </tr>\n",
       "  </thead>\n",
       "  <tbody>\n",
       "    <tr>\n",
       "      <th>0</th>\n",
       "      <td>baseline</td>\n",
       "      <td>0.320302</td>\n",
       "      <td>0.164453</td>\n",
       "      <td>0.160005</td>\n",
       "    </tr>\n",
       "    <tr>\n",
       "      <th>1</th>\n",
       "      <td>fft</td>\n",
       "      <td>0.749638</td>\n",
       "      <td>0.704316</td>\n",
       "      <td>0.688484</td>\n",
       "    </tr>\n",
       "    <tr>\n",
       "      <th>2</th>\n",
       "      <td>ti</td>\n",
       "      <td>0.755476</td>\n",
       "      <td>0.701143</td>\n",
       "      <td>0.698699</td>\n",
       "    </tr>\n",
       "    <tr>\n",
       "      <th>3</th>\n",
       "      <td>rolloff</td>\n",
       "      <td>0.454877</td>\n",
       "      <td>0.325917</td>\n",
       "      <td>0.334478</td>\n",
       "    </tr>\n",
       "    <tr>\n",
       "      <th>4</th>\n",
       "      <td>spec</td>\n",
       "      <td>0.706252</td>\n",
       "      <td>0.641959</td>\n",
       "      <td>0.643758</td>\n",
       "    </tr>\n",
       "    <tr>\n",
       "      <th>5</th>\n",
       "      <td>wavelet</td>\n",
       "      <td>0.678265</td>\n",
       "      <td>0.609578</td>\n",
       "      <td>0.607081</td>\n",
       "    </tr>\n",
       "  </tbody>\n",
       "</table>\n",
       "</div>"
      ],
      "text/plain": [
       "    feature  train score  cv score  test score\n",
       "0  baseline     0.320302  0.164453    0.160005\n",
       "1       fft     0.749638  0.704316    0.688484\n",
       "2        ti     0.755476  0.701143    0.698699\n",
       "3   rolloff     0.454877  0.325917    0.334478\n",
       "4      spec     0.706252  0.641959    0.643758\n",
       "5   wavelet     0.678265  0.609578    0.607081"
      ]
     },
     "execution_count": 20,
     "metadata": {},
     "output_type": "execute_result"
    }
   ],
   "source": [
    "result_df = pd.DataFrame(list(result.items()), columns=['feature', 'F1'])\n",
    "# change the format of result\n",
    "result_table = {'feature': ['baseline', 'fft', 'ti', 'rolloff', 'spec', 'wavelet'],\n",
    "        'train score': list(result_df[result_df.index % 3 == 0]['F1']),\n",
    "        'cv score': list(result_df[result_df.index % 3 == 1]['F1']),\n",
    "        'test score': list(result_df[result_df.index % 3 == 2]['F1']),}\n",
    "table_df = pd.DataFrame(result_table)\n",
    "table_df"
   ]
  },
  {
   "cell_type": "code",
   "execution_count": 10,
   "id": "fd9da72c",
   "metadata": {},
   "outputs": [
    {
     "data": {
      "image/png": "[encoded data removed]",
      "text/plain": [
       "<Figure size 864x576 with 1 Axes>"
      ]
     },
     "metadata": {
      "needs_background": "light"
     },
     "output_type": "display_data"
    }
   ],
   "source": [
    "# Display\n",
    "plt.figure(figsize=(12, 8))\n",
    "bar_width = 0.25  # Adjust as needed\n",
    "bar_positions = range(len(table_df['feature']))\n",
    "\n",
    "plt.bar(bar_positions, table_df['train score'], width=bar_width, label='train score')\n",
    "# plt.bar([pos + bar_width for pos in bar_positions], table_df['cv_score_2'], width=bar_width, label='cv score 2')\n",
    "plt.bar([pos + bar_width for pos in bar_positions], table_df['cv score'], width=bar_width, label='cv score')\n",
    "plt.bar([pos + 2*bar_width for pos in bar_positions], table_df['test score'], width=bar_width, label='test score')\n",
    "\n",
    "# Adding labels and title\n",
    "plt.xlabel('Categories', fontsize=18)\n",
    "plt.ylabel('F1 Score', fontsize=18)\n",
    "plt.title('Result Barchart', fontsize=18)\n",
    "\n",
    "# Adding legend\n",
    "plt.legend(fontsize='large')\n",
    "\n",
    "# Adjusting x-axis ticks and labels\n",
    "plt.xticks([pos + 1.5*bar_width for pos in bar_positions], table_df['feature'])\n",
    "\n",
    "# Display the chart\n",
    "plt.show()"
   ]
  },
  {
   "cell_type": "markdown",
   "id": "4bcf6ac5",
   "metadata": {},
   "source": [
    "looks like Temporal Integration is the best feature "
   ]
  },
  {
   "cell_type": "markdown",
   "id": "1dae3da3",
   "metadata": {},
   "source": [
    "optimize the hyperparameters, number of neightbors and weights"
   ]
  },
  {
   "cell_type": "code",
   "execution_count": 14,
   "id": "e81e0585",
   "metadata": {},
   "outputs": [
    {
     "name": "stdout",
     "output_type": "stream",
     "text": [
      "Wall time: 7min 52s\n"
     ]
    }
   ],
   "source": [
    "%%time\n",
    "ns = [5, 10, 15, 20, 25, 30, 35, 40, 45, 50]\n",
    "weights = ['uniform', 'distance']\n",
    "grid_search_stft = grid_search_cv(ti_X_train, y_train, ns, weights, 5)"
   ]
  },
  {
   "cell_type": "code",
   "execution_count": 15,
   "id": "a1158d16",
   "metadata": {},
   "outputs": [
    {
     "data": {
      "image/png": "[encoded data removed]",
      "text/plain": [
       "<Figure size 864x576 with 1 Axes>"
      ]
     },
     "metadata": {
      "needs_background": "light"
     },
     "output_type": "display_data"
    },
    {
     "name": "stdout",
     "output_type": "stream",
     "text": [
      "the best result of stft when use distance for n is 30, which is 0.7076935552947077\n"
     ]
    }
   ],
   "source": [
    "# print the curve\n",
    "plt.figure(figsize=(12, 8))\n",
    "plt.plot(ns, list(grid_search_stft.values())[0], label='Uniform')\n",
    "plt.plot(ns, list(grid_search_stft.values())[1], label='Distance')\n",
    "plt.title('F1 Score Against N Neighbours',fontsize=23)\n",
    "plt.xlabel('N Neighbours',fontsize=18)\n",
    "plt.ylabel('F1 Score',fontsize=18)\n",
    "plt.legend(fontsize='large')\n",
    "plt.show()\n",
    "\n",
    "# locate the best parameter\n",
    "best_weight = max(grid_search_stft, key=lambda k: max(enumerate(grid_search_stft[k]), key=lambda x: x[1])[1])\n",
    "best_n = ns[max(enumerate(grid_search_stft[best_weight]), key=lambda x: x[1])[0]]\n",
    "max_result = max((max(lst) for lst in grid_search_stft.values()))\n",
    "\n",
    "print(f'the best result of stft when use {best_weight} for n is {best_n}, which is {max_result}')"
   ]
  },
  {
   "cell_type": "code",
   "execution_count": 32,
   "id": "49698765",
   "metadata": {},
   "outputs": [
    {
     "name": "stdout",
     "output_type": "stream",
     "text": [
      "Fitting F1 score on training set is 1.0, on testing set is 0.7070600446887575.\n",
      "The model is overfitted.\n"
     ]
    }
   ],
   "source": [
    "# the best model\n",
    "knn_classifier = KNeighborsClassifier(n_neighbors=best_n, weights=best_weight)\n",
    "\n",
    "# Train the classifier on the training data\n",
    "knn_classifier.fit(ti_X_train, y_train)\n",
    "\n",
    "# Make predictions \n",
    "y_pred_train = knn_classifier.predict(ti_X_train)\n",
    "y_pred_test = knn_classifier.predict(ti_X_test)\n",
    "\n",
    "# Evaluate the accuracy of the classifier\n",
    "f1_train = f1_score(y_train, y_pred_train, average='weighted')\n",
    "f1_test = f1_score(y_test, y_pred_test, average='weighted')\n",
    "\n",
    "print(f'Fitting F1 score on training set is {f1_train}, on testing set is {f1_test}.')\n",
    "\n",
    "# check whether its overfitted\n",
    "if f1_train > f1_test:\n",
    "    print('The model is overfitted.')\n",
    "else:\n",
    "    print('The model is not overfitted.')"
   ]
  },
  {
   "cell_type": "code",
   "execution_count": null,
   "id": "bcdb4660",
   "metadata": {},
   "outputs": [],
   "source": []
  }
 ],
 "metadata": {
  "kernelspec": {
   "display_name": "Python 3 (ipykernel)",
   "language": "python",
   "name": "python3"
  },
  "language_info": {
   "codemirror_mode": {
    "name": "ipython",
    "version": 3
   },
   "file_extension": ".py",
   "mimetype": "text/x-python",
   "name": "python",
   "nbconvert_exporter": "python",
   "pygments_lexer": "ipython3",
   "version": "3.8.8"
  }
 },
 "nbformat": 4,
 "nbformat_minor": 5
}
