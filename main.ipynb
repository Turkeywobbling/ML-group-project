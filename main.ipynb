{
 "cells": [
  {
   "cell_type": "markdown",
   "id": "2c0d7613",
   "metadata": {},
   "source": [
    "This is the main file for feature comparisons and hyperparameters optimization"
   ]
  },
  {
   "cell_type": "code",
   "execution_count": 1,
   "id": "28185605",
   "metadata": {},
   "outputs": [
    {
     "name": "stderr",
     "output_type": "stream",
     "text": [
      "C:\\Users\\ytw\\anaconda3\\lib\\site-packages\\numpy\\_distributor_init.py:30: UserWarning: loaded more than 1 DLL from .libs:\n",
      "C:\\Users\\ytw\\anaconda3\\lib\\site-packages\\numpy\\.libs\\libopenblas.WCDJNK7YVMPZQ2ME2ZZHJJRJ3JIKNDB7.gfortran-win_amd64.dll\n",
      "C:\\Users\\ytw\\anaconda3\\lib\\site-packages\\numpy\\.libs\\libopenblas64__v0.3.21-gcc_10_3_0.dll\n",
      "  warnings.warn(\"loaded more than 1 DLL from .libs:\"\n",
      "C:\\Users\\ytw\\anaconda3\\lib\\site-packages\\scipy\\__init__.py:146: UserWarning: A NumPy version >=1.16.5 and <1.23.0 is required for this version of SciPy (detected version 1.24.4\n",
      "  warnings.warn(f\"A NumPy version >={np_minversion} and <{np_maxversion}\"\n"
     ]
    }
   ],
   "source": [
    "# import functions\n",
    "import importlib\n",
    "import functions\n",
    "importlib.reload(functions)\n",
    "from functions import *"
   ]
  },
  {
   "cell_type": "markdown",
   "id": "10071623",
   "metadata": {},
   "source": [
    "import features"
   ]
  },
  {
   "cell_type": "code",
   "execution_count": 2,
   "id": "4e0bb14a",
   "metadata": {},
   "outputs": [],
   "source": [
    "# import extracted features\n",
    "baseline = pd.read_csv('features/baseline.csv')\n",
    "fft = pd.read_csv('features/fft.csv')\n",
    "ti = pd.read_csv('features/ti.csv')\n",
    "rolloff = pd.read_csv('features/rolloff.csv')\n",
    "psd = pd.read_csv('features/psd.csv')\n",
    "wt = pd.read_csv('features/wavelets.csv')"
   ]
  },
  {
   "cell_type": "markdown",
   "id": "74624623",
   "metadata": {},
   "source": [
    "pre-processing every features"
   ]
  },
  {
   "cell_type": "code",
   "execution_count": 3,
   "id": "7afbe841",
   "metadata": {},
   "outputs": [],
   "source": [
    "baseline_X_train, y_train, baseline_X_test, y_test = pre_features(0.8, baseline)\n",
    "fft_X_train, y_train, fft_X_test, y_test = pre_features(0.8, fft)\n",
    "ti_X_train, y_train, ti_X_test, y_test = pre_features(0.8, ti)\n",
    "rolloff_X_train, y_train, rolloff_X_test, y_test = pre_features(0.8, rolloff)\n",
    "psd_X_train, y_train, psd_X_test, y_test = pre_features(0.8, psd)\n",
    "wt_X_train, y_train, wt_X_test, y_test = pre_features(0.8, wt)"
   ]
  },
  {
   "cell_type": "markdown",
   "id": "66713611",
   "metadata": {},
   "source": [
    "fit every feature by knn"
   ]
  },
  {
   "cell_type": "code",
   "execution_count": 4,
   "id": "5b2f0527",
   "metadata": {},
   "outputs": [],
   "source": [
    "# store result of all the features\n",
    "result = {}"
   ]
  },
  {
   "cell_type": "code",
   "execution_count": 5,
   "id": "4416619d",
   "metadata": {},
   "outputs": [
    {
     "name": "stdout",
     "output_type": "stream",
     "text": [
      "Wall time: 4min 26s\n"
     ]
    }
   ],
   "source": [
    "%%time\n",
    "result['baseline train'] = simple_knn(baseline_X_train, y_train, baseline_X_train, y_train)\n",
    "result['baseline cv'] = knn_cv(baseline_X_train, y_train, baseline_X_test, y_test, 5)\n",
    "result['baseline test'] = simple_knn(baseline_X_train, y_train, baseline_X_test, y_test)\n",
    "result['fft train'] = simple_knn(fft_X_train, y_train, fft_X_train, y_train)\n",
    "result['fft cv'] = knn_cv(fft_X_train, y_train, fft_X_test, y_test, 5)\n",
    "result['fft test'] = simple_knn(fft_X_train, y_train, fft_X_test, y_test)\n",
    "result['ti train'] = simple_knn(ti_X_train, y_train, ti_X_train, y_train)\n",
    "result['ti cv'] = knn_cv(ti_X_train, y_train, ti_X_test, y_test, 5)\n",
    "result['ti test'] = simple_knn(ti_X_train, y_train, ti_X_test, y_test)\n",
    "result['rolloff train'] = simple_knn(rolloff_X_train, y_train, rolloff_X_train, y_train)\n",
    "result['rolloff cv'] = knn_cv(rolloff_X_train, y_train, rolloff_X_test, y_test, 5)\n",
    "result['rolloff test'] = simple_knn(rolloff_X_train, y_train, rolloff_X_test, y_test)\n",
    "result['psd train'] = simple_knn(psd_X_train, y_train, psd_X_train, y_train)\n",
    "result['psd cv'] = knn_cv(psd_X_train, y_train, psd_X_test, y_test, 5)\n",
    "result['psd test'] = simple_knn(psd_X_train, y_train, psd_X_test, y_test)\n",
    "result['wave train'] = simple_knn(wt_X_train, y_train, wt_X_train, y_train)\n",
    "result['wave cv'] = knn_cv(wt_X_train, y_train, wt_X_test, y_test, 5)\n",
    "result['wave test'] = simple_knn(wt_X_train, y_train, wt_X_test, y_test)"
   ]
  },
  {
   "cell_type": "markdown",
   "id": "129470f3",
   "metadata": {},
   "source": [
    "result"
   ]
  },
  {
   "cell_type": "code",
   "execution_count": 6,
   "id": "c5a8c41f",
   "metadata": {},
   "outputs": [
    {
     "data": {
      "text/html": [
       "<div>\n",
       "<style scoped>\n",
       "    .dataframe tbody tr th:only-of-type {\n",
       "        vertical-align: middle;\n",
       "    }\n",
       "\n",
       "    .dataframe tbody tr th {\n",
       "        vertical-align: top;\n",
       "    }\n",
       "\n",
       "    .dataframe thead th {\n",
       "        text-align: right;\n",
       "    }\n",
       "</style>\n",
       "<table border=\"1\" class=\"dataframe\">\n",
       "  <thead>\n",
       "    <tr style=\"text-align: right;\">\n",
       "      <th></th>\n",
       "      <th>Feature</th>\n",
       "      <th>Train Score</th>\n",
       "      <th>CV Score</th>\n",
       "      <th>Test Score</th>\n",
       "    </tr>\n",
       "  </thead>\n",
       "  <tbody>\n",
       "    <tr>\n",
       "      <th>0</th>\n",
       "      <td>Baseline</td>\n",
       "      <td>0.318795</td>\n",
       "      <td>0.166926</td>\n",
       "      <td>0.157259</td>\n",
       "    </tr>\n",
       "    <tr>\n",
       "      <th>1</th>\n",
       "      <td>FFT</td>\n",
       "      <td>0.750555</td>\n",
       "      <td>0.703950</td>\n",
       "      <td>0.687624</td>\n",
       "    </tr>\n",
       "    <tr>\n",
       "      <th>2</th>\n",
       "      <td>Temporal Integration</td>\n",
       "      <td>0.754529</td>\n",
       "      <td>0.697128</td>\n",
       "      <td>0.700390</td>\n",
       "    </tr>\n",
       "    <tr>\n",
       "      <th>3</th>\n",
       "      <td>Rolloff</td>\n",
       "      <td>0.452729</td>\n",
       "      <td>0.322452</td>\n",
       "      <td>0.331178</td>\n",
       "    </tr>\n",
       "    <tr>\n",
       "      <th>4</th>\n",
       "      <td>PSD</td>\n",
       "      <td>0.705141</td>\n",
       "      <td>0.642037</td>\n",
       "      <td>0.646198</td>\n",
       "    </tr>\n",
       "    <tr>\n",
       "      <th>5</th>\n",
       "      <td>Wavelet</td>\n",
       "      <td>0.677603</td>\n",
       "      <td>0.608690</td>\n",
       "      <td>0.608235</td>\n",
       "    </tr>\n",
       "  </tbody>\n",
       "</table>\n",
       "</div>"
      ],
      "text/plain": [
       "                Feature  Train Score  CV Score  Test Score\n",
       "0              Baseline     0.318795  0.166926    0.157259\n",
       "1                   FFT     0.750555  0.703950    0.687624\n",
       "2  Temporal Integration     0.754529  0.697128    0.700390\n",
       "3               Rolloff     0.452729  0.322452    0.331178\n",
       "4                   PSD     0.705141  0.642037    0.646198\n",
       "5               Wavelet     0.677603  0.608690    0.608235"
      ]
     },
     "execution_count": 6,
     "metadata": {},
     "output_type": "execute_result"
    }
   ],
   "source": [
    "result_df = pd.DataFrame(list(result.items()), columns=['feature', 'F1'])\n",
    "# change the format of result\n",
    "result_table = {'Feature': ['Baseline', 'FFT', 'Temporal Integration', 'Rolloff', 'PSD', 'Wavelet'],\n",
    "        'Train Score': list(result_df[result_df.index % 3 == 0]['F1']),\n",
    "        'CV Score': list(result_df[result_df.index % 3 == 1]['F1']),\n",
    "        'Test Score': list(result_df[result_df.index % 3 == 2]['F1']),}\n",
    "table_df = pd.DataFrame(result_table)\n",
    "table_df"
   ]
  },
  {
   "cell_type": "code",
   "execution_count": 7,
   "id": "fd9da72c",
   "metadata": {},
   "outputs": [
    {
     "data": {
      "image/png": "[encoded data removed]",
      "text/plain": [
       "<Figure size 864x576 with 1 Axes>"
      ]
     },
     "metadata": {
      "needs_background": "light"
     },
     "output_type": "display_data"
    }
   ],
   "source": [
    "# Display\n",
    "plt.figure(figsize=(12, 8))\n",
    "bar_width = 0.25  # Adjust as needed\n",
    "bar_positions = range(len(table_df['Feature']))\n",
    "\n",
    "plt.bar(bar_positions, table_df['Train Score'], width=bar_width, label='Train Score')\n",
    "# plt.bar([pos + bar_width for pos in bar_positions], table_df['cv_score_2'], width=bar_width, label='cv score 2')\n",
    "plt.bar([pos + bar_width for pos in bar_positions], table_df['CV Score'], width=bar_width, label='CV Score')\n",
    "plt.bar([pos + 2*bar_width for pos in bar_positions], table_df['Test Score'], width=bar_width, label='Test Score')\n",
    "\n",
    "# Adding labels and title\n",
    "plt.xlabel('Categories', fontsize=18)\n",
    "plt.ylabel('F1 Score', fontsize=18)\n",
    "plt.title('Result Barchart', fontsize=18)\n",
    "\n",
    "# Adding legend\n",
    "plt.legend(fontsize='large')\n",
    "\n",
    "# Adjusting x-axis ticks and labels\n",
    "plt.xticks([pos + 1.5*bar_width for pos in bar_positions], table_df['Feature'])\n",
    "\n",
    "# Display the chart\n",
    "plt.show()"
   ]
  },
  {
   "cell_type": "markdown",
   "id": "4bcf6ac5",
   "metadata": {},
   "source": [
    "looks like Temporal Integration is the best feature "
   ]
  },
  {
   "cell_type": "markdown",
   "id": "1dae3da3",
   "metadata": {},
   "source": [
    "Optimise the hyperparameter, number of neighbours and weights"
   ]
  },
  {
   "cell_type": "code",
   "execution_count": 8,
   "id": "e81e0585",
   "metadata": {},
   "outputs": [
    {
     "name": "stdout",
     "output_type": "stream",
     "text": [
      "Wall time: 7min 10s\n"
     ]
    }
   ],
   "source": [
    "%%time\n",
    "ns = [5, 10, 15, 20, 25, 30, 35, 40, 45, 50]\n",
    "weights = ['uniform', 'distance']\n",
    "grid_search_stft = grid_search_cv(ti_X_train, y_train, ns, weights, 5)"
   ]
  },
  {
   "cell_type": "code",
   "execution_count": 9,
   "id": "a1158d16",
   "metadata": {},
   "outputs": [
    {
     "data": {
      "image/png": "[encoded data removed]",
      "text/plain": [
       "<Figure size 864x576 with 1 Axes>"
      ]
     },
     "metadata": {
      "needs_background": "light"
     },
     "output_type": "display_data"
    },
    {
     "name": "stdout",
     "output_type": "stream",
     "text": [
      "the best result of stft when use distance for n is 30, which is 0.7076935552947077\n"
     ]
    }
   ],
   "source": [
    "# print the curve\n",
    "plt.figure(figsize=(12, 8))\n",
    "plt.plot(ns, list(grid_search_stft.values())[0], label='Uniform')\n",
    "plt.plot(ns, list(grid_search_stft.values())[1], label='Distance')\n",
    "plt.title('F1 Score Against N Neighbours',fontsize=23)\n",
    "plt.xlabel('N Neighbours',fontsize=18)\n",
    "plt.ylabel('F1 Score',fontsize=18)\n",
    "plt.legend(fontsize='large')\n",
    "plt.show()\n",
    "\n",
    "# locate the best parameter\n",
    "best_weight = max(grid_search_stft, key=lambda k: max(enumerate(grid_search_stft[k]), key=lambda x: x[1])[1])\n",
    "best_n = ns[max(enumerate(grid_search_stft[best_weight]), key=lambda x: x[1])[0]]\n",
    "max_result = max((max(lst) for lst in grid_search_stft.values()))\n",
    "\n",
    "print(f'the best result of stft when use {best_weight} for n is {best_n}, which is {max_result}')"
   ]
  },
  {
   "cell_type": "code",
   "execution_count": 15,
   "id": "934f39de",
   "metadata": {},
   "outputs": [
    {
     "name": "stdout",
     "output_type": "stream",
     "text": [
      "Fitting F1 score on training set is 0.7125467790355193, on testing set is 0.7125467790355193.\n",
      "The model is not overfitted.\n"
     ]
    }
   ],
   "source": [
    "f1_train = final_knn_cv(ti_X_train, y_train, ti_X_train, y_train, 5, best_n, best_weight)\n",
    "f1_test = final_knn_cv(ti_X_train, y_train, ti_X_test, y_test, 5, best_n, best_weight)\n",
    "\n",
    "print(f'Fitting F1 score on training set is {f1_train}, on testing set is {f1_test}.')\n",
    "\n",
    "# check whether its overfitted\n",
    "if f1_train > f1_test:\n",
    "    print('The model is overfitted.')\n",
    "else:\n",
    "    print('The model is not overfitted.')"
   ]
  }
 ],
 "metadata": {
  "kernelspec": {
   "display_name": "Python 3 (ipykernel)",
   "language": "python",
   "name": "python3"
  },
  "language_info": {
   "codemirror_mode": {
    "name": "ipython",
    "version": 3
   },
   "file_extension": ".py",
   "mimetype": "text/x-python",
   "name": "python",
   "nbconvert_exporter": "python",
   "pygments_lexer": "ipython3",
   "version": "3.8.8"
  }
 },
 "nbformat": 4,
 "nbformat_minor": 5
}
