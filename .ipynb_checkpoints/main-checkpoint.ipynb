{
 "cells": [
  {
   "cell_type": "markdown",
   "id": "2c0d7613",
   "metadata": {},
   "source": [
    "This is the main file for feature comparisons and hyperparameters optimization"
   ]
  },
  {
   "cell_type": "code",
   "execution_count": 1,
   "id": "28185605",
   "metadata": {},
   "outputs": [
    {
     "name": "stderr",
     "output_type": "stream",
     "text": [
      "C:\\Users\\ytw\\anaconda3\\lib\\site-packages\\numpy\\_distributor_init.py:30: UserWarning: loaded more than 1 DLL from .libs:\n",
      "C:\\Users\\ytw\\anaconda3\\lib\\site-packages\\numpy\\.libs\\libopenblas.WCDJNK7YVMPZQ2ME2ZZHJJRJ3JIKNDB7.gfortran-win_amd64.dll\n",
      "C:\\Users\\ytw\\anaconda3\\lib\\site-packages\\numpy\\.libs\\libopenblas64__v0.3.21-gcc_10_3_0.dll\n",
      "  warnings.warn(\"loaded more than 1 DLL from .libs:\"\n",
      "C:\\Users\\ytw\\anaconda3\\lib\\site-packages\\scipy\\__init__.py:146: UserWarning: A NumPy version >=1.16.5 and <1.23.0 is required for this version of SciPy (detected version 1.24.4\n",
      "  warnings.warn(f\"A NumPy version >={np_minversion} and <{np_maxversion}\"\n"
     ]
    }
   ],
   "source": [
    "# import functions\n",
    "import importlib\n",
    "import functions\n",
    "importlib.reload(functions)\n",
    "from functions import *"
   ]
  },
  {
   "cell_type": "markdown",
   "id": "10071623",
   "metadata": {},
   "source": [
    "import features"
   ]
  },
  {
   "cell_type": "code",
   "execution_count": 2,
   "id": "3d2dfe70",
   "metadata": {},
   "outputs": [],
   "source": [
    "# import original data\n",
    "data1 = arff.loadarff(r'insects/InsectSound_TRAIN.arff')\n",
    "train= pd.DataFrame(data1[0])\n",
    "\n",
    "data2 = arff.loadarff(r'insects/InsectSound_TEST.arff')\n",
    "test= pd.DataFrame(data2[0])\n",
    "\n",
    "# get rid of empty data points\n",
    "train = train[~train.duplicated(subset=train.columns[:-1], keep=False)]\n",
    "test = test[~test.duplicated(subset=test.columns[:-1], keep=False)]\n",
    "\n",
    "# combine trainand test set\n",
    "raw_data = pd.concat([train, test], axis=0)"
   ]
  },
  {
   "cell_type": "code",
   "execution_count": 3,
   "id": "4e0bb14a",
   "metadata": {},
   "outputs": [],
   "source": [
    "# import extracted features\n",
    "baseline = pd.read_csv('features/baseline.csv')\n",
    "fft = pd.read_csv('features/fft.csv')\n",
    "ti = pd.read_csv('features/ti.csv')\n",
    "rolloff = pd.read_csv('features/rolloff.csv')\n",
    "spec = pd.read_csv('features/spec.csv')\n",
    "wt = pd.read_csv('features/wavelets.csv')"
   ]
  },
  {
   "cell_type": "markdown",
   "id": "74624623",
   "metadata": {},
   "source": [
    "pre-porcessing every features"
   ]
  },
  {
   "cell_type": "code",
   "execution_count": 4,
   "id": "581ded64",
   "metadata": {},
   "outputs": [],
   "source": [
    "def pre_features(ratio, data):\n",
    "    training, testing = split(ratio, data)\n",
    "    # split it into data and labels\n",
    "    X_train, y_train, X_test, y_test = prep(training, testing)\n",
    "    \n",
    "    return X_train, y_train, X_test, y_test"
   ]
  },
  {
   "cell_type": "code",
   "execution_count": 5,
   "id": "7afbe841",
   "metadata": {},
   "outputs": [],
   "source": [
    "raw_X_train, y_train, raw_X_test, y_test = pre_features(0.6, raw_data)\n",
    "baseline_X_train, y_train, baseline_X_test, y_test = pre_features(0.6, baseline)\n",
    "fft_X_train, y_train, fft_X_test, y_test = pre_features(0.6, fft)\n",
    "ti_X_train, y_train, ti_X_test, y_test = pre_features(0.6, ti)\n",
    "rolloff_X_train, y_train, rolloff_X_test, y_test = pre_features(0.6, rolloff)\n",
    "spec_X_train, y_train, spec_X_test, y_test = pre_features(0.6, spec)\n",
    "wt_X_train, y_train, wt_X_test, y_test = pre_features(0.6, wt)"
   ]
  },
  {
   "cell_type": "markdown",
   "id": "66713611",
   "metadata": {},
   "source": [
    "fit every feature by knn"
   ]
  },
  {
   "cell_type": "code",
   "execution_count": 6,
   "id": "5b2f0527",
   "metadata": {},
   "outputs": [],
   "source": [
    "# store result of all the features\n",
    "result = {}"
   ]
  },
  {
   "cell_type": "code",
   "execution_count": 7,
   "id": "4416619d",
   "metadata": {},
   "outputs": [
    {
     "name": "stdout",
     "output_type": "stream",
     "text": [
      "Wall time: 2min 26s\n"
     ]
    }
   ],
   "source": [
    "%%time\n",
    "result['raw_data cv'] = knn_cv(raw_X_train, y_train, raw_X_test, y_test, 5)\n",
    "result['raw_data'] = simple_knn(raw_X_train, y_train, raw_X_test, y_test)\n",
    "result['baseline cv'] = knn_cv(baseline_X_train, y_train, baseline_X_test, y_test, 5)\n",
    "result['baseline'] = simple_knn(baseline_X_train, y_train, baseline_X_test, y_test)\n",
    "result['fft cv'] = knn_cv(fft_X_train, y_train, fft_X_test, y_test, 5)\n",
    "result['fft'] = simple_knn(fft_X_train, y_train, fft_X_test, y_test)\n",
    "result['stft cv'] = knn_cv(ti_X_train, y_train, ti_X_test, y_test, 5)\n",
    "result['stft'] = simple_knn(ti_X_train, y_train, ti_X_test, y_test)\n",
    "result['rolloff cv'] = knn_cv(rolloff_X_train, y_train, rolloff_X_test, y_test, 5)\n",
    "result['rolloff'] = simple_knn(rolloff_X_train, y_train, rolloff_X_test, y_test)\n",
    "result['spec cv'] = knn_cv(spec_X_train, y_train, spec_X_test, y_test, 5)\n",
    "result['spec'] = simple_knn(spec_X_train, y_train, spec_X_test, y_test)\n",
    "result['wave cv'] = knn_cv(wt_X_train, y_train, wt_X_test, y_test, 5)\n",
    "result['wave'] = simple_knn(wt_X_train, y_train, wt_X_test, y_test)"
   ]
  },
  {
   "cell_type": "markdown",
   "id": "129470f3",
   "metadata": {},
   "source": [
    "result"
   ]
  },
  {
   "cell_type": "code",
   "execution_count": 8,
   "id": "c5a8c41f",
   "metadata": {},
   "outputs": [
    {
     "data": {
      "text/html": [
       "<div>\n",
       "<style scoped>\n",
       "    .dataframe tbody tr th:only-of-type {\n",
       "        vertical-align: middle;\n",
       "    }\n",
       "\n",
       "    .dataframe tbody tr th {\n",
       "        vertical-align: top;\n",
       "    }\n",
       "\n",
       "    .dataframe thead th {\n",
       "        text-align: right;\n",
       "    }\n",
       "</style>\n",
       "<table border=\"1\" class=\"dataframe\">\n",
       "  <thead>\n",
       "    <tr style=\"text-align: right;\">\n",
       "      <th></th>\n",
       "      <th>feature</th>\n",
       "      <th>cv score</th>\n",
       "      <th>test score</th>\n",
       "    </tr>\n",
       "  </thead>\n",
       "  <tbody>\n",
       "    <tr>\n",
       "      <th>0</th>\n",
       "      <td>raw data</td>\n",
       "      <td>0.534598</td>\n",
       "      <td>0.534589</td>\n",
       "    </tr>\n",
       "    <tr>\n",
       "      <th>1</th>\n",
       "      <td>baseline</td>\n",
       "      <td>0.161189</td>\n",
       "      <td>0.158184</td>\n",
       "    </tr>\n",
       "    <tr>\n",
       "      <th>2</th>\n",
       "      <td>fft</td>\n",
       "      <td>0.691384</td>\n",
       "      <td>0.697813</td>\n",
       "    </tr>\n",
       "    <tr>\n",
       "      <th>3</th>\n",
       "      <td>ti</td>\n",
       "      <td>0.690438</td>\n",
       "      <td>0.695808</td>\n",
       "    </tr>\n",
       "    <tr>\n",
       "      <th>4</th>\n",
       "      <td>rolloff</td>\n",
       "      <td>0.328762</td>\n",
       "      <td>0.334363</td>\n",
       "    </tr>\n",
       "    <tr>\n",
       "      <th>5</th>\n",
       "      <td>spec</td>\n",
       "      <td>0.646153</td>\n",
       "      <td>0.647120</td>\n",
       "    </tr>\n",
       "    <tr>\n",
       "      <th>6</th>\n",
       "      <td>wavelet</td>\n",
       "      <td>0.598759</td>\n",
       "      <td>0.601263</td>\n",
       "    </tr>\n",
       "  </tbody>\n",
       "</table>\n",
       "</div>"
      ],
      "text/plain": [
       "    feature  cv score  test score\n",
       "0  raw data  0.534598    0.534589\n",
       "1  baseline  0.161189    0.158184\n",
       "2       fft  0.691384    0.697813\n",
       "3        ti  0.690438    0.695808\n",
       "4   rolloff  0.328762    0.334363\n",
       "5      spec  0.646153    0.647120\n",
       "6   wavelet  0.598759    0.601263"
      ]
     },
     "execution_count": 8,
     "metadata": {},
     "output_type": "execute_result"
    }
   ],
   "source": [
    "result_df = pd.DataFrame(list(result.items()), columns=['feature', 'F1'])\n",
    "# change the format of result\n",
    "result_table = {'feature': ['raw data', 'baseline', 'fft', 'ti', 'rolloff', 'spec', 'wavelet'],\n",
    "        'cv score': list(result_df[result_df.index % 2 != 1]['F1']),\n",
    "        'test score': list(result_df[result_df.index % 2 != 0]['F1'])}\n",
    "table_df = pd.DataFrame(result_table)\n",
    "table_df"
   ]
  },
  {
   "cell_type": "code",
   "execution_count": 9,
   "id": "68b20ec1",
   "metadata": {},
   "outputs": [
    {
     "data": {
      "image/png": "[encoded data removed]",
      "text/plain": [
       "<Figure size 864x576 with 1 Axes>"
      ]
     },
     "metadata": {
      "needs_background": "light"
     },
     "output_type": "display_data"
    }
   ],
   "source": [
    "# display\n",
    "plt.figure(figsize=(12, 8))\n",
    "bar_width = 0.35\n",
    "bar_positions = range(len(table_df['feature']))\n",
    "\n",
    "plt.bar(bar_positions, table_df['cv score'], width=bar_width, label='cv score')\n",
    "plt.bar([pos + bar_width for pos in bar_positions], table_df['test score'], width=bar_width, label='test score')\n",
    "\n",
    "# Adding labels and title\n",
    "plt.xlabel('Categories',fontsize=18)\n",
    "plt.ylabel('Values',fontsize=18)\n",
    "plt.title('Result barchart',fontsize=18)\n",
    "\n",
    "# Adding legend\n",
    "plt.legend()\n",
    "\n",
    "# Adjusting x-axis ticks and labels\n",
    "plt.xticks([pos + bar_width/2 for pos in bar_positions], table_df['feature'])\n",
    "\n",
    "# Display the chart\n",
    "plt.show()\n"
   ]
  },
  {
   "cell_type": "markdown",
   "id": "4bcf6ac5",
   "metadata": {},
   "source": [
    "looks like Temporal Integration is tyhe best feature "
   ]
  },
  {
   "cell_type": "markdown",
   "id": "1dae3da3",
   "metadata": {},
   "source": [
    "optimize the hyperparameters, number of neightbors and weights"
   ]
  },
  {
   "cell_type": "code",
   "execution_count": 11,
   "id": "e81e0585",
   "metadata": {},
   "outputs": [
    {
     "name": "stdout",
     "output_type": "stream",
     "text": [
      "Wall time: 4min 19s\n"
     ]
    }
   ],
   "source": [
    "%%time\n",
    "ns = [5, 10, 15, 20, 25, 30, 35, 40, 45, 50]\n",
    "weights = ['uniform', 'distance']\n",
    "grid_search_stft = grid_search_cv(ti_X_train, y_train, ns, weights, 5)"
   ]
  },
  {
   "cell_type": "code",
   "execution_count": 12,
   "id": "a1158d16",
   "metadata": {},
   "outputs": [
    {
     "data": {
      "image/png": "[encoded data removed]",
      "text/plain": [
       "<Figure size 864x576 with 1 Axes>"
      ]
     },
     "metadata": {
      "needs_background": "light"
     },
     "output_type": "display_data"
    },
    {
     "name": "stdout",
     "output_type": "stream",
     "text": [
      "the best result of stft when use distance for n is 25, which is 0.7016941556633409\n"
     ]
    }
   ],
   "source": [
    "# print the curve\n",
    "plt.figure(figsize=(12, 8))\n",
    "plt.plot(ns, list(grid_search_stft.values())[0], label=weights[0])\n",
    "plt.plot(ns, list(grid_search_stft.values())[1], label=weights[1])\n",
    "plt.title('F1 score against n neighbours',fontsize=18)\n",
    "plt.xlabel('n neighbours',fontsize=18)\n",
    "plt.ylabel('F1 score',fontsize=18)\n",
    "plt.legend()\n",
    "plt.show()\n",
    "\n",
    "# locate the best parameter\n",
    "best_weight = max(grid_search_stft, key=lambda k: max(enumerate(grid_search_stft[k]), key=lambda x: x[1])[1])\n",
    "best_n = ns[max(enumerate(grid_search_stft[best_weight]), key=lambda x: x[1])[0]]\n",
    "max_result = max((max(lst) for lst in grid_search_stft.values()))\n",
    "\n",
    "print(f'the best result of stft when use {best_weight} for n is {best_n}, which is {max_result}')"
   ]
  },
  {
   "cell_type": "code",
   "execution_count": 36,
   "id": "49698765",
   "metadata": {},
   "outputs": [
    {
     "data": {
      "text/plain": [
       "0.7030983511013146"
      ]
     },
     "execution_count": 36,
     "metadata": {},
     "output_type": "execute_result"
    }
   ],
   "source": [
    "# the best model\n",
    "knn_classifier = KNeighborsClassifier(n_neighbors=best_n, weights=best_weight)\n",
    "\n",
    "# Train the classifier on the training data\n",
    "knn_classifier.fit(ti_X_train, y_train)\n",
    "\n",
    "# Make predictions on the test data\n",
    "y_pred = knn_classifier.predict(ti_X_test)\n",
    "\n",
    "# Evaluate the accuracy of the classifier\n",
    "f1 = f1_score(y_test, y_pred, average='weighted')\n",
    "\n",
    "f1"
   ]
  }
 ],
 "metadata": {
  "kernelspec": {
   "display_name": "Python 3 (ipykernel)",
   "language": "python",
   "name": "python3"
  },
  "language_info": {
   "codemirror_mode": {
    "name": "ipython",
    "version": 3
   },
   "file_extension": ".py",
   "mimetype": "text/x-python",
   "name": "python",
   "nbconvert_exporter": "python",
   "pygments_lexer": "ipython3",
   "version": "3.8.8"
  }
 },
 "nbformat": 4,
 "nbformat_minor": 5
}
