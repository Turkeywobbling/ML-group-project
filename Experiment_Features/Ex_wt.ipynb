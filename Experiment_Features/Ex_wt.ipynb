{
 "cells": [
  {
   "cell_type": "markdown",
   "id": "a0139b20",
   "metadata": {},
   "source": [
    "This is Experiment 6 for Wavelet Transform feature"
   ]
  },
  {
   "cell_type": "code",
   "execution_count": 1,
   "id": "3ac40f55",
   "metadata": {},
   "outputs": [
    {
     "name": "stderr",
     "output_type": "stream",
     "text": [
      "C:\\Users\\ytw\\anaconda3\\lib\\site-packages\\numpy\\_distributor_init.py:30: UserWarning: loaded more than 1 DLL from .libs:\n",
      "C:\\Users\\ytw\\anaconda3\\lib\\site-packages\\numpy\\.libs\\libopenblas.WCDJNK7YVMPZQ2ME2ZZHJJRJ3JIKNDB7.gfortran-win_amd64.dll\n",
      "C:\\Users\\ytw\\anaconda3\\lib\\site-packages\\numpy\\.libs\\libopenblas64__v0.3.21-gcc_10_3_0.dll\n",
      "  warnings.warn(\"loaded more than 1 DLL from .libs:\"\n",
      "C:\\Users\\ytw\\anaconda3\\lib\\site-packages\\scipy\\__init__.py:146: UserWarning: A NumPy version >=1.16.5 and <1.23.0 is required for this version of SciPy (detected version 1.24.4\n",
      "  warnings.warn(f\"A NumPy version >={np_minversion} and <{np_maxversion}\"\n"
     ]
    }
   ],
   "source": [
    "# import functions\n",
    "import sys\n",
    "sys.path.append('..') \n",
    "import importlib\n",
    "import functions\n",
    "importlib.reload(functions)\n",
    "from functions import *"
   ]
  },
  {
   "cell_type": "code",
   "execution_count": 2,
   "id": "f256c4dc",
   "metadata": {},
   "outputs": [
    {
     "data": {
      "text/plain": [
       "{'wave cv': 0.5925685891957904, 'wave': 0.5984741396945307}"
      ]
     },
     "execution_count": 2,
     "metadata": {},
     "output_type": "execute_result"
    }
   ],
   "source": [
    "# import extracted features\n",
    "wt = pd.read_csv('features/wavelets.csv')\n",
    "# preprocess\n",
    "wt_X_train, y_train, wt_X_test, y_test = pre_features(0.8, wt)\n",
    "# store result of all the features\n",
    "result = {}\n",
    "# fitting\n",
    "result['wave cv'] = knn_cv(wt_X_train, y_train, wt_X_test, y_test, 5)\n",
    "result['wave'] = simple_knn(wt_X_train, y_train, wt_X_test, y_test)\n",
    "\n",
    "result"
   ]
  }
 ],
 "metadata": {
  "kernelspec": {
   "display_name": "Python 3 (ipykernel)",
   "language": "python",
   "name": "python3"
  },
  "language_info": {
   "codemirror_mode": {
    "name": "ipython",
    "version": 3
   },
   "file_extension": ".py",
   "mimetype": "text/x-python",
   "name": "python",
   "nbconvert_exporter": "python",
   "pygments_lexer": "ipython3",
   "version": "3.8.8"
  }
 },
 "nbformat": 4,
 "nbformat_minor": 5
}
