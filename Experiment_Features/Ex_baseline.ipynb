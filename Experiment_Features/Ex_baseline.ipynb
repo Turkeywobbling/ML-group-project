{
 "cells": [
  {
   "cell_type": "markdown",
   "id": "ee707ae7",
   "metadata": {},
   "source": [
    "This is Experiment 1 for baseline feature"
   ]
  },
  {
   "cell_type": "code",
   "execution_count": 5,
   "id": "a8ec1c90",
   "metadata": {},
   "outputs": [],
   "source": [
    "# import functions\n",
    "import importlib\n",
    "import functions\n",
    "importlib.reload(functions)\n",
    "from functions import *"
   ]
  },
  {
   "cell_type": "code",
   "execution_count": 6,
   "id": "c9ec7dc8",
   "metadata": {},
   "outputs": [
    {
     "data": {
      "text/plain": [
       "{'baseline cv': 0.16362068582875736, 'baseline': 0.15947055610366348}"
      ]
     },
     "execution_count": 6,
     "metadata": {},
     "output_type": "execute_result"
    }
   ],
   "source": [
    "# import extracted features\n",
    "baseline = pd.read_csv('features/baseline.csv')\n",
    "\n",
    "# preprocess\n",
    "baseline_X_train, y_train, baseline_X_test, y_test = pre_features(0.6, baseline)\n",
    "\n",
    "# store result of all the features\n",
    "result = {}\n",
    "# fitting\n",
    "result['baseline cv'] = knn_cv(baseline_X_train, y_train, baseline_X_test, y_test, 5)\n",
    "result['baseline'] = simple_knn(baseline_X_train, y_train, baseline_X_test, y_test)\n",
    "\n",
    "result"
   ]
  }
 ],
 "metadata": {
  "kernelspec": {
   "display_name": "Python 3 (ipykernel)",
   "language": "python",
   "name": "python3"
  },
  "language_info": {
   "codemirror_mode": {
    "name": "ipython",
    "version": 3
   },
   "file_extension": ".py",
   "mimetype": "text/x-python",
   "name": "python",
   "nbconvert_exporter": "python",
   "pygments_lexer": "ipython3",
   "version": "3.8.8"
  }
 },
 "nbformat": 4,
 "nbformat_minor": 5
}
