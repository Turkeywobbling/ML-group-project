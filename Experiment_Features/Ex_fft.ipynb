{
 "cells": [
  {
   "cell_type": "markdown",
   "id": "e9e1f9d2",
   "metadata": {},
   "source": [
    "This is Experiment 2 for Fast Fourier Transform feature"
   ]
  },
  {
   "cell_type": "code",
   "execution_count": 3,
   "id": "0e00dc15",
   "metadata": {},
   "outputs": [],
   "source": [
    "# import functions\n",
    "import sys\n",
    "sys.path.append('..') \n",
    "import importlib\n",
    "import functions\n",
    "importlib.reload(functions)\n",
    "from functions import *"
   ]
  },
  {
   "cell_type": "code",
   "execution_count": 6,
   "id": "b639f492",
   "metadata": {},
   "outputs": [
    {
     "data": {
      "text/plain": [
       "{'fft cv': 0.6897494575323401, 'fft': 0.6951911065480761}"
      ]
     },
     "execution_count": 6,
     "metadata": {},
     "output_type": "execute_result"
    }
   ],
   "source": [
    "# import extracted features\n",
    "fft = pd.read_csv('features/fft.csv')\n",
    "# preprocess\n",
    "fft_X_train, y_train, fft_X_test, y_test = pre_features(0.8, ti)\n",
    "# store result of all the features\n",
    "result = {}\n",
    "# fitting\n",
    "result['fft cv'] = knn_cv(fft_X_train, y_train, fft_X_test, y_test, 5)\n",
    "result['fft'] = simple_knn(fft_X_train, y_train, fft_X_test, y_test)\n",
    "\n",
    "result"
   ]
  },
  {
   "cell_type": "code",
   "execution_count": null,
   "id": "7a3f5b47",
   "metadata": {},
   "outputs": [],
   "source": []
  }
 ],
 "metadata": {
  "kernelspec": {
   "display_name": "Python 3 (ipykernel)",
   "language": "python",
   "name": "python3"
  },
  "language_info": {
   "codemirror_mode": {
    "name": "ipython",
    "version": 3
   },
   "file_extension": ".py",
   "mimetype": "text/x-python",
   "name": "python",
   "nbconvert_exporter": "python",
   "pygments_lexer": "ipython3",
   "version": "3.8.8"
  }
 },
 "nbformat": 4,
 "nbformat_minor": 5
}
